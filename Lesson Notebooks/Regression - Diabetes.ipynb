{
 "cells": [
  {
   "cell_type": "markdown",
   "metadata": {},
   "source": [
    "# Diabetes Dataset - Regression Example\n",
    "\n",
    "scikit-learn has some preloaded datasets that can be useful in exploring its functionality. It's a good way to get started really quickly and temporarily ignore writing the boilerplate code to actually import and prepare your data for processing (which is definitely important to learn eventually!).\n",
    "\n",
    "In the following sections, the code illustrates how we take a dataset about diabetes progression and build a regression model to try predicting it. The dataset consists of data from various patients such as age, gender, BMI, etc. along with with 6 blood serum measurements. \n",
    "\n",
    "The sections below walk you through the 3 common stages of working with Machine Learning models:\n",
    "\n",
    "1. Load data\n",
    "2. Train model\n",
    "3. Test/validate model"
   ]
  },
  {
   "cell_type": "markdown",
   "metadata": {},
   "source": [
    "-----\n",
    "\n",
    "## 1. Load and explore the data\n",
    "\n",
    "The cells in this section illustrate how to load and explore a dataset from scikit-learn. \n",
    "\n",
    "For a complete list of the available \"toy datasets\", see https://scikit-learn.org/stable/datasets/index.html#toy-datasets\n",
    "\n",
    "Also note that scikit-learn has several much larger datasets you can load and run models against: https://scikit-learn.org/stable/datasets/index.html#real-world-datasets"
   ]
  },
  {
   "cell_type": "code",
   "execution_count": 1,
   "metadata": {},
   "outputs": [],
   "source": [
    "# Import scikit-learn's scikit-learn's module to use their \"toy datasets\"\n",
    "from sklearn import datasets"
   ]
  },
  {
   "cell_type": "code",
   "execution_count": 2,
   "metadata": {},
   "outputs": [],
   "source": [
    "# Loads in the Diabetes dataset\n",
    "diabetes = datasets.load_diabetes()"
   ]
  },
  {
   "cell_type": "code",
   "execution_count": 3,
   "metadata": {},
   "outputs": [
    {
     "name": "stdout",
     "output_type": "stream",
     "text": [
      ".. _diabetes_dataset:\n",
      "\n",
      "Diabetes dataset\n",
      "----------------\n",
      "\n",
      "Ten baseline variables, age, sex, body mass index, average blood\n",
      "pressure, and six blood serum measurements were obtained for each of n =\n",
      "442 diabetes patients, as well as the response of interest, a\n",
      "quantitative measure of disease progression one year after baseline.\n",
      "\n",
      "**Data Set Characteristics:**\n",
      "\n",
      "  :Number of Instances: 442\n",
      "\n",
      "  :Number of Attributes: First 10 columns are numeric predictive values\n",
      "\n",
      "  :Target: Column 11 is a quantitative measure of disease progression one year after baseline\n",
      "\n",
      "  :Attribute Information:\n",
      "      - Age\n",
      "      - Sex\n",
      "      - Body mass index\n",
      "      - Average blood pressure\n",
      "      - S1\n",
      "      - S2\n",
      "      - S3\n",
      "      - S4\n",
      "      - S5\n",
      "      - S6\n",
      "\n",
      "Note: Each of these 10 feature variables have been mean centered and scaled by the standard deviation times `n_samples` (i.e. the sum of squares of each column totals 1).\n",
      "\n",
      "Source URL:\n",
      "http://www4.stat.ncsu.edu/~boos/var.select/diabetes.html\n",
      "\n",
      "For more information see:\n",
      "Bradley Efron, Trevor Hastie, Iain Johnstone and Robert Tibshirani (2004) \"Least Angle Regression,\" Annals of Statistics (with discussion), 407-499.\n",
      "(http://web.stanford.edu/~hastie/Papers/LARS/LeastAngle_2002.pdf)\n"
     ]
    }
   ],
   "source": [
    "# Description of the dataset\n",
    "print(diabetes.DESCR)"
   ]
  },
  {
   "cell_type": "code",
   "execution_count": 4,
   "metadata": {},
   "outputs": [
    {
     "name": "stdout",
     "output_type": "stream",
     "text": [
      "['age', 'sex', 'bmi', 'bp', 's1', 's2', 's3', 's4', 's5', 's6']\n",
      "[[ 0.03807591  0.05068012  0.06169621 ... -0.00259226  0.01990842\n",
      "  -0.01764613]\n",
      " [-0.00188202 -0.04464164 -0.05147406 ... -0.03949338 -0.06832974\n",
      "  -0.09220405]\n",
      " [ 0.08529891  0.05068012  0.04445121 ... -0.00259226  0.00286377\n",
      "  -0.02593034]\n",
      " ...\n",
      " [ 0.04170844  0.05068012 -0.01590626 ... -0.01107952 -0.04687948\n",
      "   0.01549073]\n",
      " [-0.04547248 -0.04464164  0.03906215 ...  0.02655962  0.04452837\n",
      "  -0.02593034]\n",
      " [-0.04547248 -0.04464164 -0.0730303  ... -0.03949338 -0.00421986\n",
      "   0.00306441]]\n"
     ]
    }
   ],
   "source": [
    "# feature_names shows what each column represents\n",
    "print(diabetes.feature_names)\n",
    "# data is the matrix INPUT features in the dataset\n",
    "print(diabetes.data)"
   ]
  },
  {
   "cell_type": "code",
   "execution_count": 5,
   "metadata": {},
   "outputs": [
    {
     "data": {
      "text/plain": [
       "(442, 10)"
      ]
     },
     "execution_count": 5,
     "metadata": {},
     "output_type": "execute_result"
    }
   ],
   "source": [
    "# Check dimensions of the input feature matrix\n",
    "diabetes.data.shape\n",
    "# (442, 10) = 442 rows x 10 columns = 442 observations x 10 input features each"
   ]
  },
  {
   "cell_type": "code",
   "execution_count": 6,
   "metadata": {},
   "outputs": [
    {
     "name": "stdout",
     "output_type": "stream",
     "text": [
      "[151.  75. 141. 206. 135.  97. 138.  63. 110. 310. 101.  69. 179. 185.\n",
      " 118. 171. 166. 144.  97. 168.  68.  49.  68. 245. 184. 202. 137.  85.\n",
      " 131. 283. 129.  59. 341.  87.  65. 102. 265. 276. 252.  90. 100.  55.\n",
      "  61.  92. 259.  53. 190. 142.  75. 142. 155. 225.  59. 104. 182. 128.\n",
      "  52.  37. 170. 170.  61. 144.  52. 128.  71. 163. 150.  97. 160. 178.\n",
      "  48. 270. 202. 111.  85.  42. 170. 200. 252. 113. 143.  51.  52. 210.\n",
      "  65. 141.  55. 134.  42. 111.  98. 164.  48.  96.  90. 162. 150. 279.\n",
      "  92.  83. 128. 102. 302. 198.  95.  53. 134. 144. 232.  81. 104.  59.\n",
      " 246. 297. 258. 229. 275. 281. 179. 200. 200. 173. 180.  84. 121. 161.\n",
      "  99. 109. 115. 268. 274. 158. 107.  83. 103. 272.  85. 280. 336. 281.\n",
      " 118. 317. 235.  60. 174. 259. 178. 128.  96. 126. 288.  88. 292.  71.\n",
      " 197. 186.  25.  84.  96. 195.  53. 217. 172. 131. 214.  59.  70. 220.\n",
      " 268. 152.  47.  74. 295. 101. 151. 127. 237. 225.  81. 151. 107.  64.\n",
      " 138. 185. 265. 101. 137. 143. 141.  79. 292. 178.  91. 116.  86. 122.\n",
      "  72. 129. 142.  90. 158.  39. 196. 222. 277.  99. 196. 202. 155.  77.\n",
      " 191.  70.  73.  49.  65. 263. 248. 296. 214. 185.  78.  93. 252. 150.\n",
      "  77. 208.  77. 108. 160.  53. 220. 154. 259.  90. 246. 124.  67.  72.\n",
      " 257. 262. 275. 177.  71.  47. 187. 125.  78.  51. 258. 215. 303. 243.\n",
      "  91. 150. 310. 153. 346.  63.  89.  50.  39. 103. 308. 116. 145.  74.\n",
      "  45. 115. 264.  87. 202. 127. 182. 241.  66.  94. 283.  64. 102. 200.\n",
      " 265.  94. 230. 181. 156. 233.  60. 219.  80.  68. 332. 248.  84. 200.\n",
      "  55.  85.  89.  31. 129.  83. 275.  65. 198. 236. 253. 124.  44. 172.\n",
      " 114. 142. 109. 180. 144. 163. 147.  97. 220. 190. 109. 191. 122. 230.\n",
      " 242. 248. 249. 192. 131. 237.  78. 135. 244. 199. 270. 164.  72.  96.\n",
      " 306.  91. 214.  95. 216. 263. 178. 113. 200. 139. 139.  88. 148.  88.\n",
      " 243.  71.  77. 109. 272.  60.  54. 221.  90. 311. 281. 182. 321.  58.\n",
      " 262. 206. 233. 242. 123. 167.  63. 197.  71. 168. 140. 217. 121. 235.\n",
      " 245.  40.  52. 104. 132.  88.  69. 219.  72. 201. 110.  51. 277.  63.\n",
      " 118.  69. 273. 258.  43. 198. 242. 232. 175.  93. 168. 275. 293. 281.\n",
      "  72. 140. 189. 181. 209. 136. 261. 113. 131. 174. 257.  55.  84.  42.\n",
      " 146. 212. 233.  91. 111. 152. 120.  67. 310.  94. 183.  66. 173.  72.\n",
      "  49.  64.  48. 178. 104. 132. 220.  57.]\n"
     ]
    }
   ],
   "source": [
    "# target shows the values of the output\n",
    "print(diabetes.target)\n",
    "# These values represent a \"quantitative measure of disease progression one year after baseline.\""
   ]
  },
  {
   "cell_type": "code",
   "execution_count": 7,
   "metadata": {},
   "outputs": [
    {
     "data": {
      "text/plain": [
       "(442,)"
      ]
     },
     "execution_count": 7,
     "metadata": {},
     "output_type": "execute_result"
    }
   ],
   "source": [
    "# Check dimensions of the output\n",
    "diabetes.target.shape\n",
    "# (442,) = Array of 442 elements = 442 target values (1 per observation)"
   ]
  },
  {
   "cell_type": "markdown",
   "metadata": {},
   "source": [
    "-----\n",
    "\n",
    "## 2. Train the Model\n",
    "\n",
    "This section shows you how to go about training your decision tree.\n",
    "\n",
    "It illustrates the steps of:\n",
    "\n",
    "1. Preparing a train vs test dataset\n",
    "2. Initializing and training the decision tree classifier\n",
    "3. Visualizing the decision tree"
   ]
  },
  {
   "cell_type": "code",
   "execution_count": 8,
   "metadata": {},
   "outputs": [],
   "source": [
    "from sklearn import linear_model"
   ]
  },
  {
   "cell_type": "code",
   "execution_count": 9,
   "metadata": {},
   "outputs": [],
   "source": [
    "# Setup the training and test datasets\n",
    "# Training data allows us to train the model\n",
    "# Test dataset allows us to then validate the accuracy predictions of that model\n",
    "\n",
    "# We want to split the dataset randomly to get the test and train datasets\n",
    "# We're using sklearn function `train_test_split` that randomizes the split for us\n",
    "from sklearn.model_selection import train_test_split\n",
    "\n",
    "# sklearn convention is to use \"X\" for input feature matrix, \"y\" for target values\n",
    "X_train, X_test, y_train, y_test = train_test_split(\n",
    "    diabetes.data,    # sampled input features\n",
    "    diabetes.target,  # target values corresponding to inputs\n",
    "    test_size=0.25    # 25% of the dataset used for test dataset\n",
    ")"
   ]
  },
  {
   "cell_type": "code",
   "execution_count": 10,
   "metadata": {},
   "outputs": [
    {
     "name": "stdout",
     "output_type": "stream",
     "text": [
      "X_train shape: (331, 10)\n",
      "X_test shape: (111, 10)\n",
      "y_train: [126. 198.  91. 138. 277.  78. 114.  49.  72. 142.  94. 107.  83. 139.\n",
      "  91.  95.  68.  90. 263.  99.  85.  53. 129. 102. 155. 101. 143.  49.\n",
      " 215. 139. 174. 248. 136. 248. 281. 160.  65. 281. 199. 185. 281.  43.\n",
      "  63.  52. 272. 141. 281.  39.  78.  69. 152. 163. 115. 184.  88.  53.\n",
      " 151.  42.  74.  55.  59.  50. 118. 182. 151. 181. 310.  80.  25. 336.\n",
      "  58. 144.  61. 217.  59. 120.  64. 258. 292.  60.  86.  91. 167. 122.\n",
      "  93. 209. 220. 202. 270.  93. 145. 108.  67. 141.  51.  48. 144. 113.\n",
      " 190.  91. 121. 100. 317. 235. 245.  85.  39.  40.  99. 195. 293. 185.\n",
      "  42.  64.  74. 261. 178.  72. 186.  71.  92.  98. 200. 172. 264.  51.\n",
      " 252. 259.  63. 208. 146. 311. 265. 183.  72.  52.  65.  61. 219. 259.\n",
      "  66. 189. 249.  45. 129. 232. 134. 237. 270. 233. 150.  77. 310.  69.\n",
      "  53.  71. 121. 166. 102. 237. 245. 214. 153.  81. 143.  92. 109. 241.\n",
      " 172. 265. 197. 173. 230. 124. 151. 178. 111. 181. 200. 147. 132. 135.\n",
      " 180.  71. 191.  77. 128.  47. 258.  65. 252. 170.  72.  77. 144. 236.\n",
      " 142.  89. 283.  67. 258. 310. 192.  48. 273. 265. 242.  70. 122. 103.\n",
      " 104. 220. 141. 171. 111. 118. 279.  84. 162. 101.  78.  87. 197.  88.\n",
      " 244. 187. 113. 140. 168. 178. 156. 129.  96. 288. 217. 144. 201. 109.\n",
      "  55. 321. 163. 111.  54.  87. 259. 191. 221.  85. 113. 109.  31. 127.\n",
      " 160. 295.  64. 243. 180. 200. 214.  53. 128.  68. 140.  89.  70. 177.\n",
      " 332. 185. 174. 123. 225. 102. 262.  55. 292. 104. 178.  72. 198. 206.\n",
      " 173. 200. 308.  37. 179. 137. 219. 296. 262. 233.  47. 103. 158.  90.\n",
      " 225. 170.  77. 214.  97. 168.  59. 124. 155. 303. 233.  65.  63.  60.\n",
      " 161.  51.  59. 275. 182. 138. 275.  57. 152. 164. 243. 200. 137. 158.\n",
      " 164. 246.  42. 150. 110.  88.  96. 135.  96.]\n",
      "y_test: [128. 277. 179. 220.  55. 115.  73. 125. 196. 272. 128. 252.  79. 178.\n",
      " 202. 131. 268.  69.  88.  68. 268. 148.  97.  81. 110. 248. 202.  48.\n",
      "  49. 306. 274.  52. 131. 216.  71.  44. 116.  75.  60. 253.  90. 150.\n",
      " 198.  63.  90.  75.  94. 280.  71. 132.  83. 142. 116. 168. 104. 210.\n",
      "  95. 212. 246.  85.  97. 202. 297. 341.  52. 302. 283. 242. 276. 142.\n",
      " 104. 230.  84.  97. 118.  84. 257. 107. 229.  84.  72. 131. 196. 150.\n",
      " 275. 222. 263. 175. 235.  94. 200. 242. 154. 170. 182. 101.  66. 131.\n",
      "  96.  90. 134. 109. 275. 127. 220. 257. 346.  83. 190. 206. 232.]\n"
     ]
    }
   ],
   "source": [
    "# Let's inspect the splits\n",
    "print(\"X_train shape: \" + str(X_train.shape))\n",
    "print(\"X_test shape: \" + str(X_test.shape))\n",
    "print(\"y_train: \" + str(y_train))\n",
    "print(\"y_test: \" + str(y_test))"
   ]
  },
  {
   "cell_type": "code",
   "execution_count": 11,
   "metadata": {},
   "outputs": [
    {
     "name": "stdout",
     "output_type": "stream",
     "text": [
      "LinearRegression(copy_X=True, fit_intercept=True, n_jobs=None,\n",
      "         normalize=False)\n"
     ]
    }
   ],
   "source": [
    "# \"regr\" by scikit-learn convention is a variable name used for regression models\n",
    "regr = linear_model.LinearRegression()\n",
    "\n",
    "# Simply printing this object will show the available parameters we can set when initializing it\n",
    "# Since we didn't set any, the printed values will show the defaults\n",
    "print(regr)\n",
    "# For the very curious, you can read the docstring to see what the various parameters mean here:\n",
    "# https://scikit-learn.org/stable/modules/generated/sklearn.linear_model.LinearRegression.html"
   ]
  },
  {
   "cell_type": "code",
   "execution_count": 12,
   "metadata": {},
   "outputs": [],
   "source": [
    "# Train the regression model\n",
    "regr = regr.fit(X_train, y_train)"
   ]
  },
  {
   "cell_type": "markdown",
   "metadata": {},
   "source": [
    "-----\n",
    "\n",
    "## 3. Test the model\n",
    "\n",
    "Final step is to validate the accuracy of your resulting model. These cells illustrate:\n",
    "\n",
    "1. How to get predicted values from your trained model\n",
    "2. How to measure the accuracy of your predictions using scikit-learn"
   ]
  },
  {
   "cell_type": "code",
   "execution_count": 13,
   "metadata": {},
   "outputs": [
    {
     "data": {
      "image/png": "[encoded data removed]",
      "text/plain": [
       "<Figure size 432x288 with 1 Axes>"
      ]
     },
     "metadata": {
      "needs_background": "light"
     },
     "output_type": "display_data"
    }
   ],
   "source": [
    "%matplotlib inline\n",
    "\n",
    "# matplotlib is a handy Python library used for visualizations\n",
    "import matplotlib.pylab as plt\n",
    "import numpy as np\n",
    "\n",
    "# Predict the values from your test inputs X_test\n",
    "y_pred = regr.predict(X_test)\n",
    "\n",
    "# Let's visualize how the predicted values vary from the expected\n",
    "# We'll plot the two against each other, and compare against a line going right through the origin\n",
    "# If the model was perfect, all the values would lie along this line\n",
    "\n",
    "# Plot actual vs predicted values for test dataset\n",
    "plt.plot(y_test, y_pred, '.')\n",
    "\n",
    "# Plot the perfect line representing a 100% accuracy in predictions\n",
    "x = np.linspace(min(diabetes.target) - 10, max(diabetes.target) + 10, 100)\n",
    "y = x\n",
    "plt.plot(x, y)\n",
    "\n",
    "plt.show()"
   ]
  },
  {
   "cell_type": "code",
   "execution_count": 14,
   "metadata": {},
   "outputs": [
    {
     "name": "stdout",
     "output_type": "stream",
     "text": [
      "0.3888884945877073\n"
     ]
    }
   ],
   "source": [
    "# Formal accuracy metrics\n",
    "\n",
    "# Outputs the proportion of predictions that were correct\n",
    "# i.e., 1.0 = 100% accurate, 0.0 = 0% accurate\n",
    "score = regr.score(X_test, y_test)\n",
    "print(score)"
   ]
  }
 ],
 "metadata": {
  "kernelspec": {
   "display_name": "Python 3",
   "language": "python",
   "name": "python3"
  },
  "language_info": {
   "codemirror_mode": {
    "name": "ipython",
    "version": 3
   },
   "file_extension": ".py",
   "mimetype": "text/x-python",
   "name": "python",
   "nbconvert_exporter": "python",
   "pygments_lexer": "ipython3",
   "version": "3.7.2"
  }
 },
 "nbformat": 4,
 "nbformat_minor": 2
}
